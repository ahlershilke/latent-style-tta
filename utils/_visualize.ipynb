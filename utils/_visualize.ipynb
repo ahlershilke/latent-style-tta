{
 "cells": [
  {
   "cell_type": "code",
   "execution_count": null,
   "id": "bd86147f",
   "metadata": {},
   "outputs": [],
   "source": [
    "import torch\n",
    "import numpy as np\n",
    "import matplotlib.pyplot as plt\n",
    "import seaborn as sns\n",
    "from sklearn.manifold import TSNE\n",
    "from sklearn.decomposition import PCA\n",
    "from torchvision.utils import make_grid\n",
    "import torchvision.transforms as T\n",
    "\n",
    "from models._styleextraction import StyleExtractor"
   ]
  },
  {
   "cell_type": "code",
   "execution_count": null,
   "id": "3487da44",
   "metadata": {},
   "outputs": [],
   "source": [
    "def plot_style_embedding(style_stats, use_tsne=True):\n",
    "    mu = style_stats.mu.squeeze(-1).squeeze(-1).squeeze(-1)  # [L, D, C]\n",
    "    sig = style_stats.sig.squeeze(-1).squeeze(-1).squeeze(-1)\n",
    "\n",
    "    L, D, C = mu.shape\n",
    "    embeddings, labels = [], []\n",
    "\n",
    "    for layer in range(L):\n",
    "        for domain in range(D):\n",
    "            style_vec = torch.cat([mu[layer, domain], sig[layer, domain]], dim=0)\n",
    "            embeddings.append(style_vec.numpy())\n",
    "            labels.append(f\"L{layer}-D{domain}\")\n",
    "\n",
    "    X = np.stack(embeddings)\n",
    "    reducer = TSNE(n_components=2, perplexity=5) if use_tsne else PCA(n_components=2)\n",
    "    X_embedded = reducer.fit_transform(X)\n",
    "\n",
    "    plt.figure(figsize=(8, 6))\n",
    "    for i, label in enumerate(labels):\n",
    "        plt.scatter(X_embedded[i, 0], X_embedded[i, 1], label=label)\n",
    "    plt.title(\"t-SNE Embedding: mu + sig\")\n",
    "    plt.legend(bbox_to_anchor=(1.05, 1), loc='upper left')\n",
    "    plt.grid(True)\n",
    "    plt.tight_layout()\n",
    "    plt.show()"
   ]
  },
  {
   "cell_type": "code",
   "execution_count": null,
   "id": "76a8c52b",
   "metadata": {},
   "outputs": [],
   "source": [
    "def visualize_feature_maps(before, after, num_channels=4):\n",
    "    \"\"\"\n",
    "    Visualises feature maps before and after MixStyle\n",
    "    before/after: Tensor [B, C, H, W]\n",
    "    \"\"\"\n",
    "    before = before[0, :num_channels]  # first sample\n",
    "    after = after[0, :num_channels]\n",
    "\n",
    "    before_grid = make_grid(before.unsqueeze(1), normalize=True, nrow=num_channels).squeeze(0)\n",
    "    after_grid = make_grid(after.unsqueeze(1), normalize=True, nrow=num_channels).squeeze(0)\n",
    "\n",
    "    fig, axs = plt.subplots(2, 1, figsize=(12, 5))\n",
    "    axs[0].imshow(before_grid.cpu(), cmap='viridis')\n",
    "    axs[0].set_title(\"Before MixStyle\")\n",
    "    axs[0].axis('off')\n",
    "\n",
    "    axs[1].imshow(after_grid.cpu(), cmap='viridis')\n",
    "    axs[1].set_title(\"After MixStyle\")\n",
    "    axs[1].axis('off')\n",
    "\n",
    "    plt.tight_layout()\n",
    "    plt.show()"
   ]
  },
  {
   "cell_type": "code",
   "execution_count": null,
   "id": "f49bb70e",
   "metadata": {},
   "outputs": [],
   "source": [
    "def plot_mu_heatmap(style_stats, channel=0):\n",
    "    mu = style_stats.mu.squeeze(-1).squeeze(-1).squeeze(-1)  # [L, D, C]\n",
    "    heatmap_data = mu[:, :, channel].T.numpy()  # [Domain, Layer]\n",
    "    sns.heatmap(heatmap_data, annot=True, fmt=\".2f\", cmap=\"magma\")\n",
    "    plt.xlabel(\"Layer\")\n",
    "    plt.ylabel(\"Domain\")\n",
    "    plt.title(f\"mu Heatmap (Channel {channel})\")\n",
    "    plt.show()"
   ]
  },
  {
   "cell_type": "code",
   "execution_count": null,
   "id": "7b193d05",
   "metadata": {},
   "outputs": [],
   "source": [
    "def plot_std_heatmap(style_stats, channel=0):\n",
    "    sig = style_stats.sig.squeeze(-1).squeeze(-1).squeeze(-1)  # [L, D, C]\n",
    "    heatmap_data = sig[:, :, channel].T.numpy()  # [Domain, Layer]\n",
    "    sns.heatmap(heatmap_data, annot=True, fmt=\".2f\", cmap=\"magma\")\n",
    "    plt.xlabel(\"Layer\")\n",
    "    plt.ylabel(\"Domain\")\n",
    "    plt.title(f\"std Heatmap (Channel {channel})\")\n",
    "    plt.show()"
   ]
  },
  {
   "cell_type": "code",
   "execution_count": null,
   "id": "73d9b97d",
   "metadata": {},
   "outputs": [],
   "source": [
    "style = StyleExtractor\n",
    "style_stats = style.load(\"style_stats.json\")\n",
    "\n",
    "# t-SNE Embedding\n",
    "plot_style_embedding(style_stats)\n",
    "\n",
    "# feature map comparison (f.e. from one training run)\n",
    "# before = some_feature_map.clone()\n",
    "# after = mixstyle_layer(some_feature_map)\n",
    "# visualize_feature_maps(before, after)\n",
    "\n",
    "# heatmap\n",
    "plot_mu_heatmap(style_stats, channel=0)\n",
    "plot_std_heatmap(style_stats, channel=0)\n"
   ]
  }
 ],
 "metadata": {
  "kernelspec": {
   "display_name": "mixstyle_env",
   "language": "python",
   "name": "python3"
  },
  "language_info": {
   "name": "python",
   "version": "3.13.2"
  }
 },
 "nbformat": 4,
 "nbformat_minor": 5
}
